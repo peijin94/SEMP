{
 "cells": [
  {
   "cell_type": "code",
   "execution_count": 1,
   "metadata": {},
   "outputs": [],
   "source": [
    "import os\n",
    "import cdflib\n",
    "\n",
    "import matplotlib.pyplot as plt\n",
    "import matplotlib.dates as mdates\n",
    "import numpy as np\n",
    "import datetime\n",
    "\n",
    "# resample\n",
    "from scipy.interpolate import RegularGridInterpolator\n",
    "\n",
    "from pysemp import pysemp as SEMP\n",
    "from pysemp import psp_dataprep\n",
    "%load_ext autoreload\n",
    "%autoreload 2\n",
    "# TODO - move all demo data to google drive [done]"
   ]
  },
  {
   "cell_type": "code",
   "execution_count": 2,
   "metadata": {},
   "outputs": [],
   "source": [
    "fname_ste = '../../SEMPdemo/20190409/stereo_level2_swaves_20190409_v01.cdf'\n",
    "cdf_dataset = cdflib.CDF(fname_ste)"
   ]
  },
  {
   "cell_type": "code",
   "execution_count": 31,
   "metadata": {},
   "outputs": [],
   "source": [
    "time_ste = cdflib.cdfepoch.to_datetime(np.array(cdf_dataset.varget('Epoch')))\n",
    "freq_ste = np.array(cdf_dataset.varget('frequency'))\n",
    "data_ste_A = np.array(cdf_dataset.varget('avg_intens_ahead'))"
   ]
  },
  {
   "cell_type": "code",
   "execution_count": 32,
   "metadata": {},
   "outputs": [],
   "source": [
    "freq_ste_select = np.array([\t725.888319695363,\t879.026793283920,\t1064.47242963668,\t1289.04097362438,\t1560.98606729497,\t1890.30259871247,\t2289.09404738711,\t2772.01732746500,\t3356.82147814644,\t4065.00000000000])\n",
    "t_ste_select_ste = np.array([       \t2829.36985233443,\t2766.65329947513,\t2712.49039221413,\t2696.10416516363,\t2671.71582505838,\t2666.16217946008,\t2663.16217946008,\t2659.71582505838,\t2656.88324360618,\t2659.88324360618])+20\n",
    "freq_wi_select = np.array([\t419.276728798999,\t521.640876297891,\t648.996677216686,\t807.445708679027,\t1004.57921488941,\t1249.84180130059,\t1554.98392274647,\t1934.62484410734,\t2406.95304477923,\t2994.59762310928,\t3725.71244951489,\t4635.32500972791,\t5767.01456082762,\t7175.00000000000])\n",
    "t_ste_select_wi = np.array([\t2996.13117080708,\t2894.97488788763,\t2830.81409368138,\t2775.20694507343,\t2758.09754082208,\t2712.32297366633,\t2699.93674661583,\t2694.54840651058,\t2689.27158371143,\t2665.05277520873,\t2663.94125790263,\t2659.11078950518,\t2661.49701655568,\t2660.22019375653])+20"
   ]
  },
  {
   "cell_type": "code",
   "execution_count": 34,
   "metadata": {},
   "outputs": [],
   "source": [
    "dt_anchor = datetime.datetime(2019,4,9,12,0,0)\n",
    "anchor_time = mdates.date2num(dt_anchor)\n",
    "\n",
    "sec_all = (mdates.date2num(time_ste)-anchor_time)*3600*24\n",
    "\n",
    "dyspec = data_ste_A.T\n",
    "dyspec[np.isnan(dyspec)]=1e-30\n",
    "dyspec_const_backsub = dyspec-np.tile(np.mean(dyspec,1).T,(dyspec.shape[1],1)).T\n",
    "\n",
    "freq_ste_idx_mono = np.argsort(freq_ste)\n",
    "freq_ste_mono = freq_ste[freq_ste_idx_mono]\n",
    "dyspec_const_backsub_mono = dyspec_const_backsub[freq_ste_idx_mono,:]\n",
    "\n",
    "f = RegularGridInterpolator((freq_ste_mono,sec_all),dyspec_const_backsub_mono)\n",
    "\n",
    "rebin_freq_all=np.logspace(2.5,4.2,200)\n",
    "rebin_t_all=sec_all\n",
    "mesh_t,mesh_freq=np.meshgrid(rebin_t_all,rebin_freq_all)\n",
    "rebin_data_all=f((mesh_freq,mesh_t))"
   ]
  },
  {
   "cell_type": "code",
   "execution_count": 35,
   "metadata": {},
   "outputs": [
    {
     "data": {
      "text/plain": [
       "(200, 1440)"
      ]
     },
     "execution_count": 35,
     "metadata": {},
     "output_type": "execute_result"
    }
   ],
   "source": [
    "rebin_data_all.shape"
   ]
  },
  {
   "cell_type": "code",
   "execution_count": 36,
   "metadata": {},
   "outputs": [
    {
     "name": "stderr",
     "output_type": "stream",
     "text": [
      "/tmp/ipykernel_2543781/208510161.py:2: RuntimeWarning: invalid value encountered in log10\n",
      "  arr_x = np.log10(rebin_data_all[0,idx_range])\n"
     ]
    }
   ],
   "source": [
    "idx_range = np.arange(750,790)\n",
    "arr_x = np.log10(rebin_data_all[0,idx_range])\n",
    "N_arr_x=arr_x.ravel().shape[0]\n",
    "idx_x = np.arange(N_arr_x)\n",
    "x0 = rebin_t_all[idx_range]"
   ]
  },
  {
   "cell_type": "code",
   "execution_count": 39,
   "metadata": {},
   "outputs": [
    {
     "data": {
      "image/png": "[encoded data removed]",
      "text/plain": [
       "<Figure size 500x250 with 1 Axes>"
      ]
     },
     "metadata": {},
     "output_type": "display_data"
    }
   ],
   "source": [
    "from matplotlib.image import NonUniformImage\n",
    "fig = plt.figure(figsize=(5,2.5)) \n",
    "ax = fig.add_axes([0.15,0.05,0.8,0.92])\n",
    "\n",
    "im = NonUniformImage(ax, interpolation='nearest',extent=[x0[0],x0[-1],rebin_freq_all[0],rebin_freq_all[-1]],cmap='inferno')\n",
    "lin_freq = np.linspace(rebin_freq_all[0],rebin_freq_all[-1],rebin_freq_all.shape[0])\n",
    "im.set_data(x0,lin_freq,rebin_data_all[:,idx_range])\n",
    "ax.add_image(im)\n",
    "im.set_clim([0,2])\n",
    "ax.set_yscale('log')\n",
    "ax.set_ylabel('Frequency (kHz)')\n",
    "ax.set_xlim([2200,3400])\n",
    "ax.set_ylim([rebin_freq_all[0],rebin_freq_all[-1]])\n",
    "ax.set_aspect('auto', 'datalim')\n",
    "ax.set_xlabel('Seconds from : '+str(dt_anchor))\n",
    "ax.plot(t_ste_select_ste,freq_ste_select,'C0+')\n",
    "ax.text(0.1, 0.1,'STA',color='w',\n",
    "     horizontalalignment='center',\n",
    "     verticalalignment='center',\n",
    "     transform = ax.transAxes,\n",
    "     fontsize=15)\n",
    "ax.xaxis.set_ticklabels([]) \n",
    "ax.yaxis.set_major_locator(plt.LogLocator(base=10,subs='all'))\n",
    "#fig.savefig('img/STA.pdf')"
   ]
  },
  {
   "cell_type": "code",
   "execution_count": 40,
   "metadata": {},
   "outputs": [],
   "source": [
    "# save the data to npz\n",
    "# np.savez('tmpData/WI_STA_LE.npz',freq_STA = freq_ste_select, t_STA = t_ste_select_ste,\n",
    "#                 freq_WI = freq_wi_select, t_WI = t_ste_select_wi)\n",
    "# np.savez('tmpData/STA_data.npz',\n",
    "#     ds_t_STA = x0,ds_f_STA = rebin_freq_all,data_STA=rebin_data_all[idx_range,:])"
   ]
  },
  {
   "cell_type": "code",
   "execution_count": 42,
   "metadata": {},
   "outputs": [],
   "source": [
    "fname_ste = '../../SEMPdemo/20190409/wi_h1_wav_20190409_v01.cdf'\n",
    "cdf_dataset = cdflib.CDF(fname_ste)"
   ]
  },
  {
   "cell_type": "code",
   "execution_count": 62,
   "metadata": {},
   "outputs": [],
   "source": [
    "time_wi = cdflib.cdfepoch.to_datetime(np.array(cdf_dataset.varget('Epoch')))\n",
    "freq_wi1 = np.array(cdf_dataset.varget('Frequency_RAD1'))\n",
    "freq_wi2 = np.array(cdf_dataset.varget('Frequency_RAD2'))\n",
    "data_wi1 = np.array(cdf_dataset.varget('E_VOLTAGE_RAD1'))\n",
    "data_wi2 = np.array(cdf_dataset.varget('E_VOLTAGE_RAD2'))"
   ]
  },
  {
   "cell_type": "code",
   "execution_count": 63,
   "metadata": {},
   "outputs": [],
   "source": [
    "data_wi = np.concatenate((data_wi1,data_wi2),1)\n",
    "freq_wi = np.concatenate((freq_wi1,freq_wi2))"
   ]
  },
  {
   "cell_type": "code",
   "execution_count": 64,
   "metadata": {},
   "outputs": [],
   "source": [
    "dt_anchor = datetime.datetime(2019,4,9,12,0,0)\n",
    "anchor_time = mdates.date2num(dt_anchor)\n",
    "\n",
    "sec_all = (mdates.date2num(time_wi)-anchor_time)*3600*24\n",
    "\n",
    "dyspec = data_wi.T\n",
    "dyspec[np.isnan(dyspec)]=1e-30\n",
    "dyspec_const_backsub = dyspec-np.tile(np.mean(dyspec,1).T,(dyspec.shape[1],1)).T\n",
    "\n",
    "freq_wi_idx_mono = np.argsort(freq_wi)\n",
    "freq_wi_mono = freq_wi[freq_wi_idx_mono]\n",
    "dyspec_const_backsub_mono = dyspec_const_backsub[freq_wi_idx_mono,:]\n",
    "\n",
    "f = RegularGridInterpolator((freq_wi_mono,sec_all),dyspec_const_backsub_mono)\n",
    "\n",
    "\n",
    "rebin_freq_all=np.logspace(1.5,4.1,200)\n",
    "rebin_t_all=sec_all\n",
    "mesh_t,mesh_freq=np.meshgrid(rebin_t_all,rebin_freq_all)\n",
    "rebin_data_all=f((mesh_freq,mesh_t)).T"
   ]
  },
  {
   "cell_type": "code",
   "execution_count": 65,
   "metadata": {},
   "outputs": [
    {
     "name": "stderr",
     "output_type": "stream",
     "text": [
      "/tmp/ipykernel_2543781/459520590.py:2: RuntimeWarning: invalid value encountered in log10\n",
      "  arr_x = np.log10(rebin_data_all[idx_range,0])\n"
     ]
    }
   ],
   "source": [
    "idx_range = np.arange(750,790)\n",
    "arr_x = np.log10(rebin_data_all[idx_range,0])\n",
    "N_arr_x=arr_x.ravel().shape[0]\n",
    "idx_x = np.arange(N_arr_x)\n",
    "x0 = rebin_t_all[idx_range]"
   ]
  },
  {
   "cell_type": "code",
   "execution_count": 66,
   "metadata": {},
   "outputs": [
    {
     "data": {
      "text/plain": [
       "[Text(2200.0, 0, ''),\n",
       " Text(2400.0, 0, ''),\n",
       " Text(2600.0, 0, ''),\n",
       " Text(2800.0, 0, ''),\n",
       " Text(3000.0, 0, ''),\n",
       " Text(3200.0, 0, ''),\n",
       " Text(3400.0, 0, '')]"
      ]
     },
     "execution_count": 66,
     "metadata": {},
     "output_type": "execute_result"
    },
    {
     "data": {
      "image/png": "[encoded data removed]",
      "text/plain": [
       "<Figure size 500x250 with 1 Axes>"
      ]
     },
     "metadata": {},
     "output_type": "display_data"
    }
   ],
   "source": [
    "from matplotlib.image import NonUniformImage\n",
    "fig = plt.figure(figsize=(5,2.5)) \n",
    "ax = fig.add_axes([0.15,0.05,0.8,0.92])\n",
    "\n",
    "im = NonUniformImage(ax, interpolation='nearest',extent=[x0[0],x0[-1],rebin_freq_all[0],rebin_freq_all[-1]],cmap='inferno')\n",
    "lin_freq = np.linspace(rebin_freq_all[0],rebin_freq_all[-1],rebin_freq_all.shape[0])\n",
    "im.set_data(x0,lin_freq,(rebin_data_all[idx_range,:].T))\n",
    "ax.add_image(im)\n",
    "im.set_clim([0,0.1])\n",
    "ax.set_yscale('log')\n",
    "ax.set_xlim([2200,3400])\n",
    "ax.set_ylim([rebin_freq_all[0],rebin_freq_all[-1]])\n",
    "ax.set_aspect('auto', 'datalim')\n",
    "ax.set_ylabel('Frequency (kHz)')\n",
    "#ax.set_xlabel('Seconds from : '+str(dt_anchor))\n",
    "ax.plot(t_ste_select_wi,freq_wi_select,'C0+')\n",
    "ax.yaxis.set_major_locator(plt.LogLocator(base=10,subs='all'))\n",
    "ax.text(0.1, 0.1,'WIND',color='w',\n",
    "     horizontalalignment='center',\n",
    "     verticalalignment='center',\n",
    "     transform = ax.transAxes,\n",
    "     fontsize=15)\n",
    "ax.xaxis.set_ticklabels([]) \n",
    "#fig.savefig('img/WI.pdf')"
   ]
  },
  {
   "cell_type": "code",
   "execution_count": 17,
   "metadata": {},
   "outputs": [],
   "source": [
    "#np.savez('tmpData/WI_data.npsz',\n",
    "#ds_t_WI = x0,ds_f_WI = rebin_freq_all,data_WI=rebin_data_all[idx_range,:])"
   ]
  },
  {
   "cell_type": "code",
   "execution_count": null,
   "metadata": {},
   "outputs": [],
   "source": []
  }
 ],
 "metadata": {
  "interpreter": {
   "hash": "ee1888dd3ee3302eb408a4af81a4095080c4f062e5dd8290d0349ef9b95eb499"
  },
  "kernelspec": {
   "display_name": "Python 3.8.8 64-bit ('lofarsun': conda)",
   "name": "python3"
  },
  "language_info": {
   "codemirror_mode": {
    "name": "ipython",
    "version": 3
   },
   "file_extension": ".py",
   "mimetype": "text/x-python",
   "name": "python",
   "nbconvert_exporter": "python",
   "pygments_lexer": "ipython3",
   "version": "3.9.16"
  },
  "orig_nbformat": 4
 },
 "nbformat": 4,
 "nbformat_minor": 2
}
