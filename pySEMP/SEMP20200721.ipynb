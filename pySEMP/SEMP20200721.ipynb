{
 "cells": [
  {
   "cell_type": "code",
   "execution_count": 1,
   "metadata": {},
   "outputs": [],
   "source": [
    "from scipy.optimize import minimize\n",
    "from scipy.optimize import Bounds\n",
    "import numpy as np\n",
    "import matplotlib.pyplot as plt\n",
    "import SEMP\n",
    "import pyswarms"
   ]
  },
  {
   "cell_type": "code",
   "execution_count": 2,
   "metadata": {},
   "outputs": [],
   "source": [
    "%load_ext autoreload\n",
    "%autoreload 2"
   ]
  },
  {
   "cell_type": "code",
   "execution_count": 3,
   "metadata": {},
   "outputs": [],
   "source": [
    "[r_STA,r_WI,r_PSP,r_SOLO] = [0.960392 ,1.016119 *0.99,0.790755,0.675801]\n",
    "[alpha_STA,alpha_WI,alpha_PSP,alpha_SOLO] = np.array([-67.013 ,0,21.177, 117.397]) *np.pi/180"
   ]
  },
  {
   "cell_type": "code",
   "execution_count": null,
   "metadata": {},
   "outputs": [],
   "source": []
  },
  {
   "cell_type": "code",
   "execution_count": 4,
   "metadata": {},
   "outputs": [],
   "source": [
    "f = np.load('offset.npz')"
   ]
  },
  {
   "cell_type": "code",
   "execution_count": 33,
   "metadata": {},
   "outputs": [],
   "source": [
    "t_STA = f['t_ST_A_offset']*60\n",
    "freq_STA = f['f_ST_A']*1e6\n",
    "t_WI = f['t_WIND_offset']*60\n",
    "freq_WI = f['f_WIND']*1e6\n",
    "t_PSP = f['t_PSP_offset']*60\n",
    "freq_PSP = f['f_PSP']*1e6\n",
    "t_SOLO = f['t_SOLO_offset']*60\n",
    "freq_SOLO = f['f_SOLO']*1e6"
   ]
  },
  {
   "cell_type": "code",
   "execution_count": 77,
   "metadata": {},
   "outputs": [],
   "source": [
    "# x: [t0,theta0,vs]\n",
    "v_sw = 300\n",
    "Min_Func = lambda x:( SEMP.Dt_STA_WI_PSP_SOLO(freq_STA,freq_WI,freq_PSP,freq_SOLO,\n",
    "        t_STA,t_WI,t_PSP,t_SOLO, x[:,0],x[:,1],x[:,2],v_sw,\n",
    "        alpha_STA,alpha_WI,alpha_PSP,alpha_SOLO,\n",
    "        r_STA,r_WI,r_PSP,r_SOLO,\n",
    "        1,1,4,16,Ne_par=2) )\n"
   ]
  },
  {
   "cell_type": "code",
   "execution_count": 78,
   "metadata": {},
   "outputs": [],
   "source": [
    "# Set-up hyperparameters\n",
    "options = {'c1': 0.5, 'c2': 0.3, 'w':0.9}\n",
    "\n",
    "# Call instance of GlobalBestPSO\n",
    "optimizer = pyswarms.single.GlobalBestPSO(n_particles=100, dimensions=3,\n",
    "                                    options=options,bounds=([0,-2*np.pi,1e3],[6000,2*np.pi,2e5]))"
   ]
  },
  {
   "cell_type": "code",
   "execution_count": 79,
   "metadata": {},
   "outputs": [
    {
     "name": "stderr",
     "output_type": "stream",
     "text": [
      "2022-05-24 16:24:27,891 - pyswarms.single.global_best - INFO - Optimize for 300 iters with {'c1': 0.5, 'c2': 0.3, 'w': 0.9}\n",
      "pyswarms.single.global_best: 100%|███████████████████████████████████████████████████████████████|300/300, best_cost=32\n",
      "2022-05-24 16:24:31,960 - pyswarms.single.global_best - INFO - Optimization finished | best cost: 31.963832525036135, best pos: [ 2.73135234e+03 -3.07219746e+00  4.56103985e+04]\n"
     ]
    }
   ],
   "source": [
    "\n",
    "stats = optimizer.optimize(Min_Func, iters=300)"
   ]
  },
  {
   "cell_type": "code",
   "execution_count": 80,
   "metadata": {},
   "outputs": [],
   "source": [
    "f_model = np.logspace(4.5,7,30)\n",
    "t_model_STA = np.zeros(f_model.shape)\n",
    "t_model_WI = np.zeros(f_model.shape)\n",
    "t_model_PSP = np.zeros(f_model.shape)\n",
    "t_model_SOLO = np.zeros(f_model.shape)\n",
    "\n",
    "for idx,freq in enumerate(f_model):\n",
    "    t_model_PSP[idx] =  SEMP.t_arrival_model(freq,stats[1][0],stats[1][1],stats[1][2], v_sw=v_sw,alpha=alpha_PSP, r_satellite_AU=r_PSP,Ne_par=2.0)\n",
    "    t_model_STA[idx] =  SEMP.t_arrival_model(freq,stats[1][0],stats[1][1],stats[1][2], v_sw=v_sw,alpha=alpha_STA, r_satellite_AU=r_STA,Ne_par=2.0)\n",
    "    t_model_WI[idx]  =  SEMP.t_arrival_model(freq,stats[1][0],stats[1][1],stats[1][2], v_sw=v_sw,alpha=alpha_WI,  r_satellite_AU=r_WI,Ne_par=2.0)\n",
    "    t_model_SOLO[idx]=  SEMP.t_arrival_model(freq,stats[1][0],stats[1][1],stats[1][2], v_sw=v_sw,alpha=alpha_SOLO,r_satellite_AU=r_SOLO,Ne_par=2.0)"
   ]
  },
  {
   "cell_type": "code",
   "execution_count": 81,
   "metadata": {},
   "outputs": [],
   "source": [
    "\n",
    "np.savez('solution.npz',f_model =f_model ,\n",
    "t_model_STA =t_model_STA ,\n",
    "t_model_WI =t_model_WI ,\n",
    "t_model_PSP =t_model_PSP ,\n",
    "t_model_SOLO =t_model_SOLO )"
   ]
  },
  {
   "cell_type": "code",
   "execution_count": 82,
   "metadata": {},
   "outputs": [
    {
     "data": {
      "image/png": "[encoded data removed]",
      "text/plain": [
       "<Figure size 360x468 with 1 Axes>"
      ]
     },
     "metadata": {
      "needs_background": "light"
     },
     "output_type": "display_data"
    }
   ],
   "source": [
    "from matplotlib.image import NonUniformImage\n",
    "fig = plt.figure(figsize=(5,6.5)) \n",
    "ax3 = fig.add_axes([1,0.3,0.6,0.6])\n",
    "\n",
    "tmp_t = np.linspace(0,2*np.pi)\n",
    "R_AU = SEMP.AU2km/SEMP.r_sun2km\n",
    "r_sun2km = SEMP.r_sun2km\n",
    "ax3.plot(np.sin(tmp_t)*R_AU,np.cos(tmp_t)*R_AU,'k-',alpha=0.3)\n",
    "ax3.set_aspect('equal')\n",
    "markWI,=ax3.plot(r_WI*np.cos(0)*R_AU,r_WI*np.sin(0)*R_AU,'s',color='green',label='WIND')\n",
    "markSTA,=ax3.plot(r_STA*np.cos(alpha_STA)*R_AU,r_STA*np.sin(alpha_STA)*R_AU,'s',color='red',label='STEREO/A')\n",
    "markPSP,=ax3.plot(r_PSP*np.cos(alpha_PSP)*R_AU,r_PSP*np.sin(alpha_PSP)*R_AU,'s',color='purple',label='PSP')\n",
    "markSOLO,=ax3.plot(r_SOLO*np.cos(alpha_SOLO)*R_AU,r_SOLO*np.sin(alpha_SOLO)*R_AU,'s',color='blue',label='SOLO')\n",
    "\n",
    "r = np.linspace(1,250,100)*r_sun2km\n",
    "theta_spiral = SEMP.parkerSpiral(r,stats[1][1],v_sw)\n",
    "markSpiral,=ax3.plot(r*np.cos(theta_spiral)/r_sun2km,r*np.sin(theta_spiral)/r_sun2km,'k',label='Estimated Trace')\n",
    "\n",
    "\n",
    "\n",
    "ax3.plot(0,0,'o',color='orange')\n",
    "ax3.set_xlim([-260,260])\n",
    "ax3.set_ylim([-260,260])\n",
    "ax3.set_xlabel(r'HEE X [$R_{sun}$]')\n",
    "ax3.set_ylabel(r'HEE Y [$R_{sun}$]')\n",
    "\n",
    "plt.legend(handles=[markSTA,markWI,markPSP,markSOLO, markSpiral],  bbox_to_anchor=(0.45, 1.39), loc='upper left')\n",
    "\n",
    "fig.savefig('20200721/combined.pdf',bbox_inches='tight')\n"
   ]
  },
  {
   "cell_type": "code",
   "execution_count": 83,
   "metadata": {},
   "outputs": [
    {
     "data": {
      "text/plain": [
       "-536.0239485185887"
      ]
     },
     "execution_count": 83,
     "metadata": {},
     "output_type": "execute_result"
    }
   ],
   "source": [
    "stats[1][1]*180/np.pi-360"
   ]
  },
  {
   "cell_type": "code",
   "execution_count": 84,
   "metadata": {},
   "outputs": [
    {
     "data": {
      "text/plain": [
       "(31.963832525036135,\n",
       " array([ 2.73135234e+03, -3.07219746e+00,  4.56103985e+04]))"
      ]
     },
     "execution_count": 84,
     "metadata": {},
     "output_type": "execute_result"
    }
   ],
   "source": [
    "stats"
   ]
  },
  {
   "cell_type": "code",
   "execution_count": 87,
   "metadata": {},
   "outputs": [],
   "source": [
    "np.savez('spiral.npz',x_spiral= r*np.cos(theta_spiral)/r_sun2km, y_spiral = r*np.sin(theta_spiral)/r_sun2km)"
   ]
  },
  {
   "cell_type": "code",
   "execution_count": 86,
   "metadata": {},
   "outputs": [],
   "source": [
    "f = np.load('spiral.npz')\n",
    "x_spiral = f['x_spiral']\n",
    "y_spiral = f['y_spiral']"
   ]
  },
  {
   "cell_type": "code",
   "execution_count": null,
   "metadata": {},
   "outputs": [],
   "source": []
  }
 ],
 "metadata": {
  "interpreter": {
   "hash": "d466a1d601391b17226eca80016608e54befb655eeb107150236fc6c9bcdc71a"
  },
  "kernelspec": {
   "display_name": "Python 3 (ipykernel)",
   "language": "python",
   "name": "python3"
  },
  "language_info": {
   "codemirror_mode": {
    "name": "ipython",
    "version": 3
   },
   "file_extension": ".py",
   "mimetype": "text/x-python",
   "name": "python",
   "nbconvert_exporter": "python",
   "pygments_lexer": "ipython3",
   "version": "3.9.7"
  }
 },
 "nbformat": 4,
 "nbformat_minor": 4
}
